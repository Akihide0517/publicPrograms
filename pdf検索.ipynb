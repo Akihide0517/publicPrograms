{
  "nbformat": 4,
  "nbformat_minor": 0,
  "metadata": {
    "colab": {
      "provenance": [],
      "authorship_tag": "ABX9TyMKOF5ftwXvdQsJA1F5nw7y",
      "include_colab_link": true
    },
    "kernelspec": {
      "name": "python3",
      "display_name": "Python 3"
    },
    "language_info": {
      "name": "python"
    }
  },
  "cells": [
    {
      "cell_type": "markdown",
      "metadata": {
        "id": "view-in-github",
        "colab_type": "text"
      },
      "source": [
        "<a href=\"https://colab.research.google.com/github/Akihide0517/publicPrograms/blob/main/pdf%E6%A4%9C%E7%B4%A2.ipynb\" target=\"_parent\"><img src=\"https://colab.research.google.com/assets/colab-badge.svg\" alt=\"Open In Colab\"/></a>"
      ]
    },
    {
      "cell_type": "code",
      "execution_count": 1,
      "metadata": {
        "colab": {
          "base_uri": "https://localhost:8080/"
        },
        "id": "_-OIprV4Xx_n",
        "outputId": "bb9d24a0-de19-4179-9255-efd2ca30f507"
      },
      "outputs": [
        {
          "output_type": "stream",
          "name": "stdout",
          "text": [
            "Collecting PyPDF2\n",
            "  Downloading pypdf2-3.0.1-py3-none-any.whl (232 kB)\n",
            "\u001b[?25l     \u001b[90m━━━━━━━━━━━━━━━━━━━━━━━━━━━━━━━━━━━━━━━━\u001b[0m \u001b[32m0.0/232.6 kB\u001b[0m \u001b[31m?\u001b[0m eta \u001b[36m-:--:--\u001b[0m\r\u001b[2K     \u001b[91m━━━━━━━━━━━━━━━\u001b[0m\u001b[91m╸\u001b[0m\u001b[90m━━━━━━━━━━━━━━━━━━━━━━━━\u001b[0m \u001b[32m92.2/232.6 kB\u001b[0m \u001b[31m2.5 MB/s\u001b[0m eta \u001b[36m0:00:01\u001b[0m\r\u001b[2K     \u001b[90m━━━━━━━━━━━━━━━━━━━━━━━━━━━━━━━━━━━━━━━━\u001b[0m \u001b[32m232.6/232.6 kB\u001b[0m \u001b[31m4.1 MB/s\u001b[0m eta \u001b[36m0:00:00\u001b[0m\n",
            "\u001b[?25hInstalling collected packages: PyPDF2\n",
            "Successfully installed PyPDF2-3.0.1\n"
          ]
        }
      ],
      "source": [
        "pip install PyPDF2\n"
      ]
    },
    {
      "cell_type": "code",
      "source": [
        "import PyPDF2\n",
        "\n",
        "def extract_text_from_pdf(pdf_path):\n",
        "    with open(pdf_path, 'rb') as file:\n",
        "        reader = PyPDF2.PdfReader(file)\n",
        "        num_pages = len(reader.pages)\n",
        "        text = ''\n",
        "        for page_num in range(num_pages):\n",
        "            page = reader.pages[page_num]\n",
        "            text += page.extract_text()\n",
        "    return text\n",
        "\n",
        "def split_text_into_sentences(text):\n",
        "    sentences = []\n",
        "    current_sentence = ''\n",
        "    # 区切り文字で文章を分割\n",
        "    for char in text:\n",
        "        if char in ['.', ',', '\\n']:  # ここでは適宜区切りたい記号や改行を追加\n",
        "            sentences.append(current_sentence.strip())\n",
        "            current_sentence = ''\n",
        "        else:\n",
        "            current_sentence += char\n",
        "    # 最後の文を追加\n",
        "    if current_sentence:\n",
        "        sentences.append(current_sentence.strip())\n",
        "    return sentences\n",
        "\n",
        "def create_sentence_dictionary(sentences):\n",
        "    sentence_dict = {}\n",
        "    for i, sentence in enumerate(sentences):\n",
        "        sentence_dict[f\"Sentence_{i+1}\"] = sentence\n",
        "    return sentence_dict\n",
        "\n",
        "def search_word_in_sentences(sentences_dict, search_word):\n",
        "    found_sentences = {}\n",
        "    for key, sentence in sentences_dict.items():\n",
        "        if search_word.lower() in sentence.lower():\n",
        "            found_sentences[key] = sentence\n",
        "    return found_sentences\n",
        "\n",
        "# PDFファイルのパスを指定してテキストを取得\n",
        "pdf_text = extract_text_from_pdf('cloud_service_gcp_2023_w02_v01_student.pdf')\n",
        "\n",
        "# テキストを文章ごとに分割\n",
        "split_sentences = split_text_into_sentences(pdf_text)\n",
        "\n",
        "# 文章を辞書に格納\n",
        "sentences_dict = create_sentence_dictionary(split_sentences)\n",
        "\n",
        "# ユーザーからの検索単語の入力\n",
        "search_word = input(\"検索したい単語を入力してください: \")\n",
        "\n",
        "# 単語を含む文章を検索\n",
        "found_sentences = search_word_in_sentences(sentences_dict, search_word)\n",
        "\n",
        "# 検索結果を表示\n",
        "if found_sentences:\n",
        "    print(f\"「{search_word}」を含む文章:\")\n",
        "    for key, sentence in found_sentences.items():\n",
        "        print(f\"{key}: {sentence}\")\n",
        "else:\n",
        "    print(f\"「{search_word}」は見つかりませんでした。\")\n"
      ],
      "metadata": {
        "colab": {
          "base_uri": "https://localhost:8080/"
        },
        "id": "p_JGvCT1X2Cy",
        "outputId": "1803b146-2485-4664-93b8-b65c9898777a"
      },
      "execution_count": 21,
      "outputs": [
        {
          "output_type": "stream",
          "name": "stdout",
          "text": [
            "検索したい単語を入力してください: 切\n",
            "「切」を含む文章:\n",
            "Sentence_50: 切り替えるGCPコンソールへのアクセス\n",
            "Sentence_65: 他の利用者のネットワークとは完全に切り離された\n",
            "Sentence_579: 他のプロジェクトと物理的にも切り離したい場合など に使用\n",
            "Sentence_600: 日本語だと正しく表示されないので、英語に切り替える必要がある\n",
            "Sentence_741: することで他の利用者・プロジェクトのネットワークとは完全に切り\n",
            "Sentence_744: [5]では、リージョンごとに [6]を作成し、ネットワークを切り\n"
          ]
        }
      ]
    },
    {
      "cell_type": "code",
      "source": [],
      "metadata": {
        "id": "CkKXLlagYHoS"
      },
      "execution_count": null,
      "outputs": []
    }
  ]
}